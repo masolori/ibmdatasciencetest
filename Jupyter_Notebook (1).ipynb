{
 "cells": [
  {
   "cell_type": "markdown",
   "metadata": {},
   "source": [
    "<center>\n",
    "    <img src=\"https://s3-api.us-geo.objectstorage.softlayer.net/cf-courses-data/CognitiveClass/Logos/organization_logo/organization_logo.png\" width=\"300\" alt=\"cognitiveclass.ai logo\"  />\n",
    "</center>\n"
   ]
  },
  {
   "cell_type": "markdown",
   "metadata": {
    "tags": []
   },
   "source": [
    "#### Add your code below following the instructions given in the course\n"
   ]
  },
  {
   "cell_type": "markdown",
   "metadata": {},
   "source": [
    "<H1>My Jupiter Notebook on IBM Watson Studio</H1>"
   ]
  },
  {
   "cell_type": "markdown",
   "metadata": {},
   "source": [
    "**Mario Enrique Solorio Zertuche**\n",
    "\n",
    "My Current position is Project manager and i want to work as a data science engineer or ML."
   ]
  },
  {
   "cell_type": "markdown",
   "metadata": {},
   "source": [
    "*I think data science is amazing in the way you can use math and create something that will learn from the data to give you some predictions.*"
   ]
  },
  {
   "cell_type": "markdown",
   "metadata": {},
   "source": [
    "<H3>the code in cell 5 is a function when call will print 3 times \"data science is cool.\"</H3>"
   ]
  },
  {
   "cell_type": "code",
   "execution_count": 7,
   "metadata": {},
   "outputs": [
    {
     "name": "stdout",
     "output_type": "stream",
     "text": [
      "data science is cool\n",
      "data science is cool\n",
      "data science is cool\n"
     ]
    }
   ],
   "source": [
    "def dis_out():\n",
    "    for a in range(3):\n",
    "        print(\"data science is cool\")\n",
    "dis_out()"
   ]
  },
  {
   "cell_type": "markdown",
   "metadata": {},
   "source": [
    "<hr></hr>\n",
    "\n",
    "<table>\n",
    "    <tr>\n",
    "        <th>bullet list</th>\n",
    "        <th>numbered list</th>\n",
    "    </tr>\n",
    "    <tr>\n",
    "        <td>* bullet 1</td>\n",
    "        <td>* bullet 2</td>\n",
    "        <td>* bullet 3</td>\n",
    "    </tr>\n",
    "    <tr>\n",
    "        <td>1. numbered list 1</td>\n",
    "        <td>2. numbered list 2</td>\n",
    "        <td>3. numbered list 3</td>\n",
    "    </tr>\n",
    "</table>\n",
    "\n",
    "<hr></hr>\n",
    "\n",
    "<a href=\"https://www.udemy.com/\">Udemy</a>\n",
    "<img src=\"https://images.alphacoders.com/733/733488.png\" alt=\"Pikachu Wallpaper\">\n",
    "\n",
    "\n",
    "<code>def dis_out():\n",
    "    for a in range(3):\n",
    "        print(\"data science is cool\")\n",
    "</code>\n",
    "\n",
    ">Blockquoute\n",
    "Data sci"
   ]
  },
  {
   "cell_type": "code",
   "execution_count": null,
   "metadata": {},
   "outputs": [],
   "source": []
  }
 ],
 "metadata": {
  "kernelspec": {
   "display_name": "Python",
   "language": "python",
   "name": "conda-env-python-py"
  },
  "language_info": {
   "codemirror_mode": {
    "name": "ipython",
    "version": 3
   },
   "file_extension": ".py",
   "mimetype": "text/x-python",
   "name": "python",
   "nbconvert_exporter": "python",
   "pygments_lexer": "ipython3",
   "version": "3.7.12"
  }
 },
 "nbformat": 4,
 "nbformat_minor": 4
}
